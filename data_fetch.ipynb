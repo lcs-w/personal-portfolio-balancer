{
 "cells": [
  {
   "cell_type": "code",
   "execution_count": 4,
   "metadata": {},
   "outputs": [],
   "source": [
    "import pandas as pd\n",
    "import numpy as np\n",
    "\n",
    "import matplotlib.pylab as plt\n",
    "import seaborn as sns\n",
    "\n",
    "sns.set_style(\"whitegrid\")\n",
    "sns.set_palette(sns.color_palette(\"vlag\"))"
   ]
  },
  {
   "cell_type": "code",
   "execution_count": 5,
   "metadata": {},
   "outputs": [],
   "source": [
    "from datetime import datetime, timedelta\n",
    "\n",
    "# BDay is business day, not birthday...\n",
    "from pandas.tseries.offsets import BDay\n",
    "from pandas.tseries.holiday import USFederalHolidayCalendar\n",
    "from pandas.tseries.offsets import CustomBusinessDay\n",
    "\n",
    "US_BUSINESS_DAY = CustomBusinessDay(calendar=USFederalHolidayCalendar())"
   ]
  },
  {
   "cell_type": "code",
   "execution_count": 6,
   "metadata": {},
   "outputs": [
    {
     "name": "stdout",
     "output_type": "stream",
     "text": [
      "2019-07-04 14:29:32.120561\n"
     ]
    }
   ],
   "source": [
    "import yfinance as yf\n",
    "\n",
    "# set the end date to today\n",
    "end_date = datetime.today()\n",
    "# set the start date to 5 years ago\n",
    "start_date = end_date - timedelta(days=5 * 365)\n",
    "print(start_date)"
   ]
  },
  {
   "cell_type": "code",
   "execution_count": 79,
   "metadata": {},
   "outputs": [
    {
     "name": "stderr",
     "output_type": "stream",
     "text": [
      "[*********************100%%**********************]  1 of 1 completed\n",
      "[*********************100%%**********************]  1 of 1 completed\n",
      "[*********************100%%**********************]  1 of 1 completed\n",
      "[*********************100%%**********************]  1 of 1 completed\n"
     ]
    }
   ],
   "source": [
    "# list of tickers\n",
    "tickers = [\n",
    "    \"^NDX\",\n",
    "    \"QQQ\",  # Invesco QQQ Trust\n",
    "    \"SHV\",  # iShares Short Treasury Bond ETF\n",
    "    \"TLT\",  # iShares 20+ Year Treasury Bond ETF\n",
    "]\n",
    "market = [\"^GSPC\"]\n",
    "\n",
    "close_df = pd.DataFrame()\n",
    "for _t in tickers:\n",
    "    close_df[_t] = yf.download(_t, start=start_date, end=end_date)[\"Close\"]"
   ]
  },
  {
   "cell_type": "code",
   "execution_count": 80,
   "metadata": {},
   "outputs": [
    {
     "data": {
      "text/html": [
       "<div>\n",
       "<style scoped>\n",
       "    .dataframe tbody tr th:only-of-type {\n",
       "        vertical-align: middle;\n",
       "    }\n",
       "\n",
       "    .dataframe tbody tr th {\n",
       "        vertical-align: top;\n",
       "    }\n",
       "\n",
       "    .dataframe thead th {\n",
       "        text-align: right;\n",
       "    }\n",
       "</style>\n",
       "<table border=\"1\" class=\"dataframe\">\n",
       "  <thead>\n",
       "    <tr style=\"text-align: right;\">\n",
       "      <th></th>\n",
       "      <th>^NDX</th>\n",
       "      <th>QQQ</th>\n",
       "      <th>SHV</th>\n",
       "      <th>TLT</th>\n",
       "    </tr>\n",
       "    <tr>\n",
       "      <th>Date</th>\n",
       "      <th></th>\n",
       "      <th></th>\n",
       "      <th></th>\n",
       "      <th></th>\n",
       "    </tr>\n",
       "  </thead>\n",
       "  <tbody>\n",
       "    <tr>\n",
       "      <th>2019-07-01</th>\n",
       "      <td>7768.140137</td>\n",
       "      <td>189.259995</td>\n",
       "      <td>110.449997</td>\n",
       "      <td>132.240005</td>\n",
       "    </tr>\n",
       "    <tr>\n",
       "      <th>2019-07-02</th>\n",
       "      <td>7799.819824</td>\n",
       "      <td>190.009995</td>\n",
       "      <td>110.470001</td>\n",
       "      <td>133.259995</td>\n",
       "    </tr>\n",
       "    <tr>\n",
       "      <th>2019-07-03</th>\n",
       "      <td>7857.689941</td>\n",
       "      <td>191.440002</td>\n",
       "      <td>110.500000</td>\n",
       "      <td>134.210007</td>\n",
       "    </tr>\n",
       "    <tr>\n",
       "      <th>2019-07-05</th>\n",
       "      <td>7841.299805</td>\n",
       "      <td>191.050003</td>\n",
       "      <td>110.470001</td>\n",
       "      <td>132.429993</td>\n",
       "    </tr>\n",
       "    <tr>\n",
       "      <th>2019-07-08</th>\n",
       "      <td>7785.790039</td>\n",
       "      <td>189.710007</td>\n",
       "      <td>110.489998</td>\n",
       "      <td>132.610001</td>\n",
       "    </tr>\n",
       "  </tbody>\n",
       "</table>\n",
       "</div>"
      ],
      "text/plain": [
       "                   ^NDX         QQQ         SHV         TLT\n",
       "Date                                                       \n",
       "2019-07-01  7768.140137  189.259995  110.449997  132.240005\n",
       "2019-07-02  7799.819824  190.009995  110.470001  133.259995\n",
       "2019-07-03  7857.689941  191.440002  110.500000  134.210007\n",
       "2019-07-05  7841.299805  191.050003  110.470001  132.429993\n",
       "2019-07-08  7785.790039  189.710007  110.489998  132.610001"
      ]
     },
     "execution_count": 80,
     "metadata": {},
     "output_type": "execute_result"
    }
   ],
   "source": [
    "close_df.head()"
   ]
  },
  {
   "cell_type": "markdown",
   "metadata": {},
   "source": [
    "#### Nasdaq 100 composition"
   ]
  },
  {
   "cell_type": "code",
   "execution_count": 60,
   "metadata": {},
   "outputs": [
    {
     "name": "stdout",
     "output_type": "stream",
     "text": [
      "200\n"
     ]
    }
   ],
   "source": [
    "import requests\n",
    "\n",
    "headers = {\n",
    "    \"user-agent\": \"Mozilla/5.0 (Windows NT 10.0; Win64; x64) AppleWebKit/537.36 (KHTML, like Gecko) Chrome/92.0.4515.107 Safari/537.36\"\n",
    "}\n",
    "res = requests.get(\n",
    "    \"https://api.nasdaq.com/api/quote/list-type/nasdaq100\", headers=headers\n",
    ")\n",
    "print(res.status_code)\n",
    "main_data = res.json()[\"data\"][\"data\"][\"rows\"]"
   ]
  },
  {
   "cell_type": "code",
   "execution_count": 81,
   "metadata": {},
   "outputs": [
    {
     "data": {
      "text/html": [
       "<div>\n",
       "<style scoped>\n",
       "    .dataframe tbody tr th:only-of-type {\n",
       "        vertical-align: middle;\n",
       "    }\n",
       "\n",
       "    .dataframe tbody tr th {\n",
       "        vertical-align: top;\n",
       "    }\n",
       "\n",
       "    .dataframe thead th {\n",
       "        text-align: right;\n",
       "    }\n",
       "</style>\n",
       "<table border=\"1\" class=\"dataframe\">\n",
       "  <thead>\n",
       "    <tr style=\"text-align: right;\">\n",
       "      <th></th>\n",
       "      <th>symbol</th>\n",
       "      <th>sector</th>\n",
       "      <th>companyName</th>\n",
       "      <th>marketCap</th>\n",
       "      <th>lastSalePrice</th>\n",
       "      <th>netChange</th>\n",
       "      <th>percentageChange</th>\n",
       "      <th>deltaIndicator</th>\n",
       "    </tr>\n",
       "  </thead>\n",
       "  <tbody>\n",
       "    <tr>\n",
       "      <th>13</th>\n",
       "      <td>MSFT</td>\n",
       "      <td></td>\n",
       "      <td>Microsoft Corporation Common Stock</td>\n",
       "      <td>3321.869075</td>\n",
       "      <td>$446.95</td>\n",
       "      <td>$5.90</td>\n",
       "      <td>-1.3%</td>\n",
       "      <td>down</td>\n",
       "    </tr>\n",
       "    <tr>\n",
       "      <th>0</th>\n",
       "      <td>AAPL</td>\n",
       "      <td></td>\n",
       "      <td>Apple Inc. Common Stock</td>\n",
       "      <td>3229.664351</td>\n",
       "      <td>$210.62</td>\n",
       "      <td>$3.48</td>\n",
       "      <td>-1.63%</td>\n",
       "      <td>down</td>\n",
       "    </tr>\n",
       "    <tr>\n",
       "      <th>39</th>\n",
       "      <td>NVDA</td>\n",
       "      <td></td>\n",
       "      <td>NVIDIA Corporation Common Stock</td>\n",
       "      <td>3038.879167</td>\n",
       "      <td>$123.54</td>\n",
       "      <td>$0.45</td>\n",
       "      <td>-0.36%</td>\n",
       "      <td>down</td>\n",
       "    </tr>\n",
       "    <tr>\n",
       "      <th>80</th>\n",
       "      <td>GOOG</td>\n",
       "      <td></td>\n",
       "      <td>Alphabet Inc. Class C Capital Stock</td>\n",
       "      <td>2266.704360</td>\n",
       "      <td>$183.42</td>\n",
       "      <td>$3.44</td>\n",
       "      <td>-1.84%</td>\n",
       "      <td>down</td>\n",
       "    </tr>\n",
       "    <tr>\n",
       "      <th>63</th>\n",
       "      <td>GOOGL</td>\n",
       "      <td></td>\n",
       "      <td>Alphabet Inc. Class A Common Stock</td>\n",
       "      <td>2251.009700</td>\n",
       "      <td>$182.15</td>\n",
       "      <td>$3.26</td>\n",
       "      <td>-1.76%</td>\n",
       "      <td>down</td>\n",
       "    </tr>\n",
       "    <tr>\n",
       "      <th>...</th>\n",
       "      <td>...</td>\n",
       "      <td>...</td>\n",
       "      <td>...</td>\n",
       "      <td>...</td>\n",
       "      <td>...</td>\n",
       "      <td>...</td>\n",
       "      <td>...</td>\n",
       "      <td>...</td>\n",
       "    </tr>\n",
       "    <tr>\n",
       "      <th>87</th>\n",
       "      <td>MDB</td>\n",
       "      <td></td>\n",
       "      <td>MongoDB, Inc. Class A Common Stock</td>\n",
       "      <td>18.334740</td>\n",
       "      <td>$249.96</td>\n",
       "      <td>$5.81</td>\n",
       "      <td>+2.38%</td>\n",
       "      <td>up</td>\n",
       "    </tr>\n",
       "    <tr>\n",
       "      <th>97</th>\n",
       "      <td>WBD</td>\n",
       "      <td></td>\n",
       "      <td>Warner Bros. Discovery, Inc. Series A Common S...</td>\n",
       "      <td>18.230332</td>\n",
       "      <td>$7.44</td>\n",
       "      <td>$0.09</td>\n",
       "      <td>+1.22%</td>\n",
       "      <td>up</td>\n",
       "    </tr>\n",
       "    <tr>\n",
       "      <th>44</th>\n",
       "      <td>ILMN</td>\n",
       "      <td></td>\n",
       "      <td>Illumina, Inc. Common Stock</td>\n",
       "      <td>16.627734</td>\n",
       "      <td>$104.38</td>\n",
       "      <td>$2.08</td>\n",
       "      <td>-1.95%</td>\n",
       "      <td>down</td>\n",
       "    </tr>\n",
       "    <tr>\n",
       "      <th>60</th>\n",
       "      <td>WBA</td>\n",
       "      <td></td>\n",
       "      <td>Walgreens Boots Alliance, Inc. Common Stock</td>\n",
       "      <td>10.434518</td>\n",
       "      <td>$12.095</td>\n",
       "      <td>$0.095</td>\n",
       "      <td>-0.78%</td>\n",
       "      <td>down</td>\n",
       "    </tr>\n",
       "    <tr>\n",
       "      <th>101</th>\n",
       "      <td>GRAL</td>\n",
       "      <td></td>\n",
       "      <td>GRAIL, Inc. Common Stock</td>\n",
       "      <td>0.477279</td>\n",
       "      <td>$15.37</td>\n",
       "      <td>$0.21</td>\n",
       "      <td>+1.39%</td>\n",
       "      <td>up</td>\n",
       "    </tr>\n",
       "  </tbody>\n",
       "</table>\n",
       "<p>102 rows × 8 columns</p>\n",
       "</div>"
      ],
      "text/plain": [
       "    symbol sector                                        companyName   \n",
       "13    MSFT                        Microsoft Corporation Common Stock  \\\n",
       "0     AAPL                                   Apple Inc. Common Stock   \n",
       "39    NVDA                           NVIDIA Corporation Common Stock   \n",
       "80    GOOG                       Alphabet Inc. Class C Capital Stock   \n",
       "63   GOOGL                        Alphabet Inc. Class A Common Stock   \n",
       "..     ...    ...                                                ...   \n",
       "87     MDB                        MongoDB, Inc. Class A Common Stock   \n",
       "97     WBD         Warner Bros. Discovery, Inc. Series A Common S...   \n",
       "44    ILMN                               Illumina, Inc. Common Stock   \n",
       "60     WBA               Walgreens Boots Alliance, Inc. Common Stock   \n",
       "101   GRAL                                 GRAIL, Inc. Common Stock    \n",
       "\n",
       "       marketCap lastSalePrice netChange percentageChange deltaIndicator  \n",
       "13   3321.869075       $446.95     $5.90            -1.3%           down  \n",
       "0    3229.664351       $210.62     $3.48           -1.63%           down  \n",
       "39   3038.879167       $123.54     $0.45           -0.36%           down  \n",
       "80   2266.704360       $183.42     $3.44           -1.84%           down  \n",
       "63   2251.009700       $182.15     $3.26           -1.76%           down  \n",
       "..           ...           ...       ...              ...            ...  \n",
       "87     18.334740       $249.96     $5.81           +2.38%             up  \n",
       "97     18.230332         $7.44     $0.09           +1.22%             up  \n",
       "44     16.627734       $104.38     $2.08           -1.95%           down  \n",
       "60     10.434518       $12.095    $0.095           -0.78%           down  \n",
       "101     0.477279        $15.37     $0.21           +1.39%             up  \n",
       "\n",
       "[102 rows x 8 columns]"
      ]
     },
     "execution_count": 81,
     "metadata": {},
     "output_type": "execute_result"
    }
   ],
   "source": [
    "ndx_comp = pd.DataFrame(main_data)\n",
    "ndx_comp[\"marketCap\"] = (\n",
    "    ndx_comp[\"marketCap\"].str.replace(\",\", \"\").astype(\"float\") / 10**9\n",
    ")\n",
    "ndx_comp.sort_values(\"marketCap\", ascending=False)\n",
    "\n",
    "# ndx_comp[ndx_comp[\"symbol\"] == \"TSLA\"]"
   ]
  },
  {
   "cell_type": "markdown",
   "metadata": {},
   "source": [
    "#### interest rates"
   ]
  },
  {
   "cell_type": "code",
   "execution_count": 55,
   "metadata": {},
   "outputs": [],
   "source": [
    "%reload_ext autoreload\n",
    "%autoreload 2\n",
    "\n",
    "from interest_rate_fetcher import get_interest_rate\n",
    "\n",
    "daily_spot_rate = get_interest_rate(sample_start=start_date, maturity=\"DGS6MO\")"
   ]
  },
  {
   "cell_type": "code",
   "execution_count": 54,
   "metadata": {},
   "outputs": [
    {
     "data": {
      "text/html": [
       "<div>\n",
       "<style scoped>\n",
       "    .dataframe tbody tr th:only-of-type {\n",
       "        vertical-align: middle;\n",
       "    }\n",
       "\n",
       "    .dataframe tbody tr th {\n",
       "        vertical-align: top;\n",
       "    }\n",
       "\n",
       "    .dataframe thead th {\n",
       "        text-align: right;\n",
       "    }\n",
       "</style>\n",
       "<table border=\"1\" class=\"dataframe\">\n",
       "  <thead>\n",
       "    <tr style=\"text-align: right;\">\n",
       "      <th></th>\n",
       "      <th>6.0</th>\n",
       "    </tr>\n",
       "  </thead>\n",
       "  <tbody>\n",
       "    <tr>\n",
       "      <th>2019-07-01</th>\n",
       "      <td>0.0210</td>\n",
       "    </tr>\n",
       "    <tr>\n",
       "      <th>2019-07-02</th>\n",
       "      <td>0.0209</td>\n",
       "    </tr>\n",
       "    <tr>\n",
       "      <th>2019-07-03</th>\n",
       "      <td>0.0208</td>\n",
       "    </tr>\n",
       "    <tr>\n",
       "      <th>2019-07-05</th>\n",
       "      <td>0.0214</td>\n",
       "    </tr>\n",
       "    <tr>\n",
       "      <th>2019-07-08</th>\n",
       "      <td>0.0214</td>\n",
       "    </tr>\n",
       "  </tbody>\n",
       "</table>\n",
       "</div>"
      ],
      "text/plain": [
       "               6.0\n",
       "2019-07-01  0.0210\n",
       "2019-07-02  0.0209\n",
       "2019-07-03  0.0208\n",
       "2019-07-05  0.0214\n",
       "2019-07-08  0.0214"
      ]
     },
     "execution_count": 54,
     "metadata": {},
     "output_type": "execute_result"
    }
   ],
   "source": [
    "daily_spot_rate.head()"
   ]
  },
  {
   "cell_type": "markdown",
   "metadata": {},
   "source": [
    "### Modern Portfolio Theory (MPT)"
   ]
  },
  {
   "cell_type": "code",
   "execution_count": null,
   "metadata": {},
   "outputs": [],
   "source": []
  }
 ],
 "metadata": {
  "kernelspec": {
   "display_name": "Python 3",
   "language": "python",
   "name": "python3"
  },
  "language_info": {
   "codemirror_mode": {
    "name": "ipython",
    "version": 3
   },
   "file_extension": ".py",
   "mimetype": "text/x-python",
   "name": "python",
   "nbconvert_exporter": "python",
   "pygments_lexer": "ipython3",
   "version": "3.12.3"
  }
 },
 "nbformat": 4,
 "nbformat_minor": 2
}
